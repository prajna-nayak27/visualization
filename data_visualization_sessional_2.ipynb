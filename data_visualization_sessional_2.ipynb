{
 "cells": [
  {
   "cell_type": "code",
   "execution_count": 83,
   "metadata": {
    "collapsed": true
   },
   "outputs": [],
   "source": [
    "import pandas as pd\n",
    "import matplotlib.pyplot as plt\n",
    "import numpy as np"
   ]
  },
  {
   "cell_type": "code",
   "execution_count": 84,
   "metadata": {
    "collapsed": true
   },
   "outputs": [],
   "source": [
    "#df = df.fillna(0)"
   ]
  },
  {
   "cell_type": "code",
   "execution_count": 85,
   "metadata": {},
   "outputs": [
    {
     "data": {
      "text/html": [
       "<div>\n",
       "<style>\n",
       "    .dataframe thead tr:only-child th {\n",
       "        text-align: right;\n",
       "    }\n",
       "\n",
       "    .dataframe thead th {\n",
       "        text-align: left;\n",
       "    }\n",
       "\n",
       "    .dataframe tbody tr th {\n",
       "        vertical-align: top;\n",
       "    }\n",
       "</style>\n",
       "<table border=\"1\" class=\"dataframe\">\n",
       "  <thead>\n",
       "    <tr style=\"text-align: right;\">\n",
       "      <th></th>\n",
       "      <th>Category</th>\n",
       "      <th>State/ UT Name</th>\n",
       "      <th>Cow Milk-2010-11</th>\n",
       "      <th>Cow Milk-2011-12</th>\n",
       "      <th>Cow Milk-2013-14</th>\n",
       "      <th>Cow Milk-2014-15</th>\n",
       "      <th>Cow Milk-2015-16</th>\n",
       "      <th>Boffalo Milk-2010-11</th>\n",
       "      <th>Boffalo Milk-2011-12</th>\n",
       "      <th>Boffalo Milk-2013-14</th>\n",
       "      <th>Boffalo Milk-2014-15</th>\n",
       "      <th>Boffalo Milk-2015-16</th>\n",
       "      <th>Goat Milk-2010-11</th>\n",
       "      <th>Goat Milk-2011-12</th>\n",
       "      <th>Goat Milk-2013-14</th>\n",
       "      <th>Goat Milk-2014-15</th>\n",
       "      <th>Goat Milk-2015-16</th>\n",
       "    </tr>\n",
       "  </thead>\n",
       "  <tbody>\n",
       "    <tr>\n",
       "      <th>0</th>\n",
       "      <td>State</td>\n",
       "      <td>Andhra Pradesh</td>\n",
       "      <td>3102.0</td>\n",
       "      <td>3377.0</td>\n",
       "      <td>3799.0</td>\n",
       "      <td>3079</td>\n",
       "      <td>3369</td>\n",
       "      <td>8101.0</td>\n",
       "      <td>8710.0</td>\n",
       "      <td>9207.0</td>\n",
       "      <td>6574</td>\n",
       "      <td>7445</td>\n",
       "      <td>1.0</td>\n",
       "      <td>1.0</td>\n",
       "      <td>1.0</td>\n",
       "      <td>3</td>\n",
       "      <td>3</td>\n",
       "    </tr>\n",
       "    <tr>\n",
       "      <th>1</th>\n",
       "      <td>State</td>\n",
       "      <td>Arunachal Pradesh</td>\n",
       "      <td>28.0</td>\n",
       "      <td>22.0</td>\n",
       "      <td>43.0</td>\n",
       "      <td>46</td>\n",
       "      <td>50</td>\n",
       "      <td>NaN</td>\n",
       "      <td>NaN</td>\n",
       "      <td>0.0</td>\n",
       "      <td>0</td>\n",
       "      <td>0</td>\n",
       "      <td>NaN</td>\n",
       "      <td>NaN</td>\n",
       "      <td>NaN</td>\n",
       "      <td>0</td>\n",
       "      <td>0</td>\n",
       "    </tr>\n",
       "    <tr>\n",
       "      <th>2</th>\n",
       "      <td>State</td>\n",
       "      <td>Assam</td>\n",
       "      <td>666.0</td>\n",
       "      <td>658.0</td>\n",
       "      <td>677.0</td>\n",
       "      <td>685</td>\n",
       "      <td>703</td>\n",
       "      <td>101.0</td>\n",
       "      <td>117.0</td>\n",
       "      <td>122.0</td>\n",
       "      <td>120</td>\n",
       "      <td>117</td>\n",
       "      <td>23.0</td>\n",
       "      <td>22.0</td>\n",
       "      <td>15.0</td>\n",
       "      <td>24</td>\n",
       "      <td>24</td>\n",
       "    </tr>\n",
       "    <tr>\n",
       "      <th>3</th>\n",
       "      <td>State</td>\n",
       "      <td>Bihar</td>\n",
       "      <td>3561.0</td>\n",
       "      <td>3661.0</td>\n",
       "      <td>3986.0</td>\n",
       "      <td>4318</td>\n",
       "      <td>4881</td>\n",
       "      <td>2798.0</td>\n",
       "      <td>2805.0</td>\n",
       "      <td>3015.0</td>\n",
       "      <td>3248</td>\n",
       "      <td>3210</td>\n",
       "      <td>158.0</td>\n",
       "      <td>177.0</td>\n",
       "      <td>196.0</td>\n",
       "      <td>209</td>\n",
       "      <td>198</td>\n",
       "    </tr>\n",
       "    <tr>\n",
       "      <th>4</th>\n",
       "      <td>State</td>\n",
       "      <td>Chhattisgarh</td>\n",
       "      <td>644.0</td>\n",
       "      <td>701.0</td>\n",
       "      <td>788.0</td>\n",
       "      <td>824</td>\n",
       "      <td>919</td>\n",
       "      <td>343.0</td>\n",
       "      <td>368.0</td>\n",
       "      <td>374.0</td>\n",
       "      <td>359</td>\n",
       "      <td>311</td>\n",
       "      <td>43.0</td>\n",
       "      <td>49.0</td>\n",
       "      <td>46.0</td>\n",
       "      <td>49</td>\n",
       "      <td>48</td>\n",
       "    </tr>\n",
       "    <tr>\n",
       "      <th>5</th>\n",
       "      <td>State</td>\n",
       "      <td>Goa</td>\n",
       "      <td>37.0</td>\n",
       "      <td>42.0</td>\n",
       "      <td>43.0</td>\n",
       "      <td>45</td>\n",
       "      <td>34</td>\n",
       "      <td>23.0</td>\n",
       "      <td>18.0</td>\n",
       "      <td>25.0</td>\n",
       "      <td>21</td>\n",
       "      <td>19</td>\n",
       "      <td>0.0</td>\n",
       "      <td>NaN</td>\n",
       "      <td>0.0</td>\n",
       "      <td>0</td>\n",
       "      <td>1</td>\n",
       "    </tr>\n",
       "    <tr>\n",
       "      <th>6</th>\n",
       "      <td>State</td>\n",
       "      <td>Gujarat</td>\n",
       "      <td>3572.0</td>\n",
       "      <td>3848.0</td>\n",
       "      <td>4673.0</td>\n",
       "      <td>4999</td>\n",
       "      <td>5461</td>\n",
       "      <td>5514.0</td>\n",
       "      <td>NaN</td>\n",
       "      <td>6180.0</td>\n",
       "      <td>6424</td>\n",
       "      <td>6512</td>\n",
       "      <td>236.0</td>\n",
       "      <td>241.0</td>\n",
       "      <td>259.0</td>\n",
       "      <td>267</td>\n",
       "      <td>289</td>\n",
       "    </tr>\n",
       "    <tr>\n",
       "      <th>7</th>\n",
       "      <td>State</td>\n",
       "      <td>Haryana</td>\n",
       "      <td>966.0</td>\n",
       "      <td>998.0</td>\n",
       "      <td>1057.0</td>\n",
       "      <td>1194</td>\n",
       "      <td>1558</td>\n",
       "      <td>5239.0</td>\n",
       "      <td>5596.0</td>\n",
       "      <td>6308.0</td>\n",
       "      <td>6628</td>\n",
       "      <td>6772</td>\n",
       "      <td>63.0</td>\n",
       "      <td>67.0</td>\n",
       "      <td>77.0</td>\n",
       "      <td>80</td>\n",
       "      <td>51</td>\n",
       "    </tr>\n",
       "    <tr>\n",
       "      <th>8</th>\n",
       "      <td>State</td>\n",
       "      <td>Himachal Pradesh</td>\n",
       "      <td>669.0</td>\n",
       "      <td>680.0</td>\n",
       "      <td>698.0</td>\n",
       "      <td>715</td>\n",
       "      <td>858</td>\n",
       "      <td>384.0</td>\n",
       "      <td>390.0</td>\n",
       "      <td>404.0</td>\n",
       "      <td>408</td>\n",
       "      <td>381</td>\n",
       "      <td>49.0</td>\n",
       "      <td>50.0</td>\n",
       "      <td>49.0</td>\n",
       "      <td>50</td>\n",
       "      <td>44</td>\n",
       "    </tr>\n",
       "    <tr>\n",
       "      <th>9</th>\n",
       "      <td>State</td>\n",
       "      <td>Jammu &amp; Kashmir</td>\n",
       "      <td>1205.0</td>\n",
       "      <td>1204.0</td>\n",
       "      <td>1233.0</td>\n",
       "      <td>1323</td>\n",
       "      <td>1752</td>\n",
       "      <td>311.0</td>\n",
       "      <td>317.0</td>\n",
       "      <td>287.0</td>\n",
       "      <td>546</td>\n",
       "      <td>453</td>\n",
       "      <td>94.0</td>\n",
       "      <td>93.0</td>\n",
       "      <td>95.0</td>\n",
       "      <td>82</td>\n",
       "      <td>68</td>\n",
       "    </tr>\n",
       "  </tbody>\n",
       "</table>\n",
       "</div>"
      ],
      "text/plain": [
       "  Category     State/ UT Name  Cow Milk-2010-11  Cow Milk-2011-12  \\\n",
       "0    State     Andhra Pradesh            3102.0            3377.0   \n",
       "1    State  Arunachal Pradesh              28.0              22.0   \n",
       "2    State              Assam             666.0             658.0   \n",
       "3    State              Bihar            3561.0            3661.0   \n",
       "4    State       Chhattisgarh             644.0             701.0   \n",
       "5    State                Goa              37.0              42.0   \n",
       "6    State            Gujarat            3572.0            3848.0   \n",
       "7    State            Haryana             966.0             998.0   \n",
       "8    State   Himachal Pradesh             669.0             680.0   \n",
       "9    State    Jammu & Kashmir            1205.0            1204.0   \n",
       "\n",
       "   Cow Milk-2013-14  Cow Milk-2014-15  Cow Milk-2015-16  Boffalo Milk-2010-11  \\\n",
       "0            3799.0              3079              3369                8101.0   \n",
       "1              43.0                46                50                   NaN   \n",
       "2             677.0               685               703                 101.0   \n",
       "3            3986.0              4318              4881                2798.0   \n",
       "4             788.0               824               919                 343.0   \n",
       "5              43.0                45                34                  23.0   \n",
       "6            4673.0              4999              5461                5514.0   \n",
       "7            1057.0              1194              1558                5239.0   \n",
       "8             698.0               715               858                 384.0   \n",
       "9            1233.0              1323              1752                 311.0   \n",
       "\n",
       "   Boffalo Milk-2011-12  Boffalo Milk-2013-14  Boffalo Milk-2014-15  \\\n",
       "0                8710.0                9207.0                  6574   \n",
       "1                   NaN                   0.0                     0   \n",
       "2                 117.0                 122.0                   120   \n",
       "3                2805.0                3015.0                  3248   \n",
       "4                 368.0                 374.0                   359   \n",
       "5                  18.0                  25.0                    21   \n",
       "6                   NaN                6180.0                  6424   \n",
       "7                5596.0                6308.0                  6628   \n",
       "8                 390.0                 404.0                   408   \n",
       "9                 317.0                 287.0                   546   \n",
       "\n",
       "   Boffalo Milk-2015-16  Goat Milk-2010-11  Goat Milk-2011-12  \\\n",
       "0                  7445                1.0                1.0   \n",
       "1                     0                NaN                NaN   \n",
       "2                   117               23.0               22.0   \n",
       "3                  3210              158.0              177.0   \n",
       "4                   311               43.0               49.0   \n",
       "5                    19                0.0                NaN   \n",
       "6                  6512              236.0              241.0   \n",
       "7                  6772               63.0               67.0   \n",
       "8                   381               49.0               50.0   \n",
       "9                   453               94.0               93.0   \n",
       "\n",
       "   Goat Milk-2013-14  Goat Milk-2014-15  Goat Milk-2015-16  \n",
       "0                1.0                  3                  3  \n",
       "1                NaN                  0                  0  \n",
       "2               15.0                 24                 24  \n",
       "3              196.0                209                198  \n",
       "4               46.0                 49                 48  \n",
       "5                0.0                  0                  1  \n",
       "6              259.0                267                289  \n",
       "7               77.0                 80                 51  \n",
       "8               49.0                 50                 44  \n",
       "9               95.0                 82                 68  "
      ]
     },
     "execution_count": 85,
     "metadata": {},
     "output_type": "execute_result"
    }
   ],
   "source": [
    "df=pd.read_csv('/home/sois/Documents/first_clas/data_visual/milk_production.csv')\n",
    "df.head(10)"
   ]
  },
  {
   "cell_type": "code",
   "execution_count": 86,
   "metadata": {},
   "outputs": [
    {
     "data": {
      "text/plain": [
       "(36, 17)"
      ]
     },
     "execution_count": 86,
     "metadata": {},
     "output_type": "execute_result"
    }
   ],
   "source": [
    "df.shape"
   ]
  },
  {
   "cell_type": "code",
   "execution_count": null,
   "metadata": {},
   "outputs": [],
   "source": []
  },
  {
   "cell_type": "code",
   "execution_count": 87,
   "metadata": {},
   "outputs": [],
   "source": [
    "#1. Which state has produced max milk in year 2013-14?"
   ]
  },
  {
   "cell_type": "code",
   "execution_count": 88,
   "metadata": {},
   "outputs": [
    {
     "data": {
      "text/plain": [
       "23    Tamil Nadu\n",
       "Name: State/ UT Name, dtype: object"
      ]
     },
     "execution_count": 88,
     "metadata": {},
     "output_type": "execute_result"
    }
   ],
   "source": [
    "df[df['Cow Milk-2013-14']==df['Cow Milk-2013-14'].max()]['State/ UT Name']"
   ]
  },
  {
   "cell_type": "code",
   "execution_count": 92,
   "metadata": {},
   "outputs": [
    {
     "data": {
      "text/html": [
       "<div>\n",
       "<style>\n",
       "    .dataframe thead tr:only-child th {\n",
       "        text-align: right;\n",
       "    }\n",
       "\n",
       "    .dataframe thead th {\n",
       "        text-align: left;\n",
       "    }\n",
       "\n",
       "    .dataframe tbody tr th {\n",
       "        vertical-align: top;\n",
       "    }\n",
       "</style>\n",
       "<table border=\"1\" class=\"dataframe\">\n",
       "  <thead>\n",
       "    <tr style=\"text-align: right;\">\n",
       "      <th></th>\n",
       "      <th>State/ UT Name</th>\n",
       "      <th>Cow Milk-2013-14</th>\n",
       "    </tr>\n",
       "  </thead>\n",
       "  <tbody>\n",
       "    <tr>\n",
       "      <th>23</th>\n",
       "      <td>Tamil Nadu</td>\n",
       "      <td>6444.0</td>\n",
       "    </tr>\n",
       "  </tbody>\n",
       "</table>\n",
       "</div>"
      ],
      "text/plain": [
       "   State/ UT Name  Cow Milk-2013-14\n",
       "23     Tamil Nadu            6444.0"
      ]
     },
     "execution_count": 92,
     "metadata": {},
     "output_type": "execute_result"
    }
   ],
   "source": [
    "total_milk=df[df['Cow Milk-2013-14']==df['Cow Milk-2013-14'].max()][['State/ UT Name','Cow Milk-2013-14']]\n",
    "total_milk"
   ]
  },
  {
   "cell_type": "code",
   "execution_count": 112,
   "metadata": {},
   "outputs": [
    {
     "data": {
      "text/plain": [
       "0    11204.0\n",
       "1        NaN\n",
       "2      790.0\n",
       "3     6517.0\n",
       "4     1030.0\n",
       "dtype: float64"
      ]
     },
     "execution_count": 112,
     "metadata": {},
     "output_type": "execute_result"
    }
   ],
   "source": [
    "\n",
    "#df1[total_milk]=df[df[\"Cow Milk-2013-14\",\"Boffalo Milk-2013-14\",\"Goat Milk-2013-14\"]].sum()\n",
    "milk_yr =(df[\"Cow Milk-2010-11\"] + df[\"Boffalo Milk-2010-11\"] + df[\"Goat Milk-2010-11\"])\n",
    "milk_yr.head()"
   ]
  },
  {
   "cell_type": "code",
   "execution_count": 93,
   "metadata": {
    "collapsed": true
   },
   "outputs": [],
   "source": [
    "#2. List top 5 milk producing states in each year from 2010 to 2015"
   ]
  },
  {
   "cell_type": "code",
   "execution_count": 95,
   "metadata": {},
   "outputs": [
    {
     "data": {
      "text/plain": [
       "26     Uttar Pradesh\n",
       "21         Rajasthan\n",
       "0     Andhra Pradesh\n",
       "20            Punjab\n",
       "6            Gujarat\n",
       "Name: State/ UT Name, dtype: object"
      ]
     },
     "execution_count": 95,
     "metadata": {},
     "output_type": "execute_result"
    }
   ],
   "source": [
    "df[\"cow_milk_yr10-11\"] =(df[\"Cow Milk-2010-11\"] + df[\"Boffalo Milk-2010-11\"] + df[\"Goat Milk-2010-11\"]).sort_values(ascending=False)\n",
    "\n",
    "df.sort_values('cow_milk_yr10-11',ascending=False)[\"State/ UT Name\"].head()"
   ]
  },
  {
   "cell_type": "code",
   "execution_count": null,
   "metadata": {
    "collapsed": true
   },
   "outputs": [],
   "source": [
    "#df.sum(df['Cow Milk-2013-14'],df['Boffalo Milk-2013-14'],df['Goat Milk-2013-14'])\n",
    "\n",
    "#df[total_milk]=df[df['Cow Milk-2013-14'] + df['Boffalo Milk-2013-14']+ df['Goat Milk-2013-14']]\n",
    "\n",
    "#df['total_milk'] = df.sum()\n"
   ]
  },
  {
   "cell_type": "code",
   "execution_count": null,
   "metadata": {
    "collapsed": true
   },
   "outputs": [],
   "source": [
    "#3. Calculate average milk production by cow, buffalo and goat in each year for selected state."
   ]
  },
  {
   "cell_type": "code",
   "execution_count": 113,
   "metadata": {},
   "outputs": [
    {
     "data": {
      "text/html": [
       "<div>\n",
       "<style>\n",
       "    .dataframe thead tr:only-child th {\n",
       "        text-align: right;\n",
       "    }\n",
       "\n",
       "    .dataframe thead th {\n",
       "        text-align: left;\n",
       "    }\n",
       "\n",
       "    .dataframe tbody tr th {\n",
       "        vertical-align: top;\n",
       "    }\n",
       "</style>\n",
       "<table border=\"1\" class=\"dataframe\">\n",
       "  <thead>\n",
       "    <tr style=\"text-align: right;\">\n",
       "      <th></th>\n",
       "      <th>Category</th>\n",
       "      <th>State/ UT Name</th>\n",
       "      <th>Cow Milk-2010-11</th>\n",
       "      <th>Cow Milk-2011-12</th>\n",
       "      <th>Cow Milk-2013-14</th>\n",
       "      <th>Cow Milk-2014-15</th>\n",
       "      <th>Cow Milk-2015-16</th>\n",
       "      <th>Boffalo Milk-2010-11</th>\n",
       "      <th>Boffalo Milk-2011-12</th>\n",
       "      <th>Boffalo Milk-2013-14</th>\n",
       "      <th>Boffalo Milk-2014-15</th>\n",
       "      <th>Boffalo Milk-2015-16</th>\n",
       "      <th>Goat Milk-2010-11</th>\n",
       "      <th>Goat Milk-2011-12</th>\n",
       "      <th>Goat Milk-2013-14</th>\n",
       "      <th>Goat Milk-2014-15</th>\n",
       "      <th>Goat Milk-2015-16</th>\n",
       "      <th>cow_milk_yr10-11</th>\n",
       "      <th>cow_milk_10-15</th>\n",
       "      <th>milk_yr10-11</th>\n",
       "    </tr>\n",
       "  </thead>\n",
       "  <tbody>\n",
       "    <tr>\n",
       "      <th>26</th>\n",
       "      <td>State</td>\n",
       "      <td>Uttar Pradesh</td>\n",
       "      <td>5342.0</td>\n",
       "      <td>5837.0</td>\n",
       "      <td>6142.0</td>\n",
       "      <td>6387</td>\n",
       "      <td>8243</td>\n",
       "      <td>14496.0</td>\n",
       "      <td>15549.0</td>\n",
       "      <td>16805.0</td>\n",
       "      <td>17524</td>\n",
       "      <td>16865</td>\n",
       "      <td>1193.0</td>\n",
       "      <td>1171.0</td>\n",
       "      <td>1248.0</td>\n",
       "      <td>1288</td>\n",
       "      <td>1279</td>\n",
       "      <td>21031.0</td>\n",
       "      <td>31951.0</td>\n",
       "      <td>21031.0</td>\n",
       "    </tr>\n",
       "  </tbody>\n",
       "</table>\n",
       "</div>"
      ],
      "text/plain": [
       "   Category State/ UT Name  Cow Milk-2010-11  Cow Milk-2011-12  \\\n",
       "26    State  Uttar Pradesh            5342.0            5837.0   \n",
       "\n",
       "    Cow Milk-2013-14  Cow Milk-2014-15  Cow Milk-2015-16  \\\n",
       "26            6142.0              6387              8243   \n",
       "\n",
       "    Boffalo Milk-2010-11  Boffalo Milk-2011-12  Boffalo Milk-2013-14  \\\n",
       "26               14496.0               15549.0               16805.0   \n",
       "\n",
       "    Boffalo Milk-2014-15  Boffalo Milk-2015-16  Goat Milk-2010-11  \\\n",
       "26                 17524                 16865             1193.0   \n",
       "\n",
       "    Goat Milk-2011-12  Goat Milk-2013-14  Goat Milk-2014-15  \\\n",
       "26             1171.0             1248.0               1288   \n",
       "\n",
       "    Goat Milk-2015-16  cow_milk_yr10-11  cow_milk_10-15  milk_yr10-11  \n",
       "26               1279           21031.0         31951.0       21031.0  "
      ]
     },
     "execution_count": 113,
     "metadata": {},
     "output_type": "execute_result"
    }
   ],
   "source": [
    "df[\"cow_milk_10-15\"]=df[\"Cow Milk-2010-11\"]+df[\"Cow Milk-2011-12\"]+df[\"Cow Milk-2013-14\"]+df[\"Cow Milk-2014-15\"]+df[\"Cow Milk-2015-16\"]\n",
    "df[df[\"cow_milk_10-15\"].mean() and df[\"State/ UT Name\"]==\"Uttar Pradesh\"]"
   ]
  },
  {
   "cell_type": "code",
   "execution_count": null,
   "metadata": {},
   "outputs": [],
   "source": []
  },
  {
   "cell_type": "code",
   "execution_count": null,
   "metadata": {
    "collapsed": true
   },
   "outputs": [],
   "source": [
    "#"
   ]
  },
  {
   "cell_type": "code",
   "execution_count": null,
   "metadata": {
    "collapsed": true
   },
   "outputs": [],
   "source": []
  },
  {
   "cell_type": "code",
   "execution_count": null,
   "metadata": {
    "collapsed": true
   },
   "outputs": [],
   "source": [
    "\n"
   ]
  },
  {
   "cell_type": "code",
   "execution_count": 99,
   "metadata": {},
   "outputs": [],
   "source": [
    "#df['total_milk']= df.iloc[:, 3:7].sum(axis=1)\n",
    "#df['milk'] = df[df['Goat Milk-2013-14']] + df[df['Boffalo Milk-2013-14']]"
   ]
  },
  {
   "cell_type": "code",
   "execution_count": null,
   "metadata": {
    "collapsed": true
   },
   "outputs": [],
   "source": [
    "#4. List 5 states (if present) whose total milk production is increased for last three years"
   ]
  },
  {
   "cell_type": "code",
   "execution_count": null,
   "metadata": {},
   "outputs": [],
   "source": []
  },
  {
   "cell_type": "code",
   "execution_count": 120,
   "metadata": {},
   "outputs": [
    {
     "data": {
      "text/html": [
       "<div>\n",
       "<style>\n",
       "    .dataframe thead tr:only-child th {\n",
       "        text-align: right;\n",
       "    }\n",
       "\n",
       "    .dataframe thead th {\n",
       "        text-align: left;\n",
       "    }\n",
       "\n",
       "    .dataframe tbody tr th {\n",
       "        vertical-align: top;\n",
       "    }\n",
       "</style>\n",
       "<table border=\"1\" class=\"dataframe\">\n",
       "  <thead>\n",
       "    <tr style=\"text-align: right;\">\n",
       "      <th></th>\n",
       "      <th>Region</th>\n",
       "      <th>Country/ Region</th>\n",
       "      <th>2010</th>\n",
       "      <th>2011</th>\n",
       "      <th>2012</th>\n",
       "      <th>2013</th>\n",
       "      <th>2014</th>\n",
       "      <th>2015</th>\n",
       "      <th>2016</th>\n",
       "    </tr>\n",
       "  </thead>\n",
       "  <tbody>\n",
       "    <tr>\n",
       "      <th>0</th>\n",
       "      <td>North America</td>\n",
       "      <td>US</td>\n",
       "      <td>34.990</td>\n",
       "      <td>39.775</td>\n",
       "      <td>44.180</td>\n",
       "      <td>48.463</td>\n",
       "      <td>54.962</td>\n",
       "      <td>47.987</td>\n",
       "      <td>47.987</td>\n",
       "    </tr>\n",
       "    <tr>\n",
       "      <th>1</th>\n",
       "      <td>North America</td>\n",
       "      <td>Canada</td>\n",
       "      <td>174.848</td>\n",
       "      <td>174.177</td>\n",
       "      <td>173.716</td>\n",
       "      <td>173.038</td>\n",
       "      <td>172.156</td>\n",
       "      <td>171.512</td>\n",
       "      <td>171.512</td>\n",
       "    </tr>\n",
       "    <tr>\n",
       "      <th>2</th>\n",
       "      <td>North America</td>\n",
       "      <td>Mexico</td>\n",
       "      <td>11.691</td>\n",
       "      <td>11.394</td>\n",
       "      <td>11.424</td>\n",
       "      <td>11.079</td>\n",
       "      <td>10.816</td>\n",
       "      <td>7.977</td>\n",
       "      <td>7.977</td>\n",
       "    </tr>\n",
       "    <tr>\n",
       "      <th>3</th>\n",
       "      <td>S. &amp; Cent. America</td>\n",
       "      <td>Argentina</td>\n",
       "      <td>2.524</td>\n",
       "      <td>2.525</td>\n",
       "      <td>2.354</td>\n",
       "      <td>2.330</td>\n",
       "      <td>2.380</td>\n",
       "      <td>2.395</td>\n",
       "      <td>2.395</td>\n",
       "    </tr>\n",
       "    <tr>\n",
       "      <th>4</th>\n",
       "      <td>S. &amp; Cent. America</td>\n",
       "      <td>Brazil</td>\n",
       "      <td>14.246</td>\n",
       "      <td>15.050</td>\n",
       "      <td>15.314</td>\n",
       "      <td>15.593</td>\n",
       "      <td>16.184</td>\n",
       "      <td>13.000</td>\n",
       "      <td>12.634</td>\n",
       "    </tr>\n",
       "    <tr>\n",
       "      <th>5</th>\n",
       "      <td>S. &amp; Cent. America</td>\n",
       "      <td>Colombia</td>\n",
       "      <td>1.900</td>\n",
       "      <td>1.988</td>\n",
       "      <td>2.200</td>\n",
       "      <td>2.377</td>\n",
       "      <td>2.445</td>\n",
       "      <td>2.308</td>\n",
       "      <td>2.002</td>\n",
       "    </tr>\n",
       "    <tr>\n",
       "      <th>6</th>\n",
       "      <td>S. &amp; Cent. America</td>\n",
       "      <td>Ecuador</td>\n",
       "      <td>6.158</td>\n",
       "      <td>7.210</td>\n",
       "      <td>8.383</td>\n",
       "      <td>8.191</td>\n",
       "      <td>8.000</td>\n",
       "      <td>8.000</td>\n",
       "      <td>8.000</td>\n",
       "    </tr>\n",
       "    <tr>\n",
       "      <th>7</th>\n",
       "      <td>S. &amp; Cent. America</td>\n",
       "      <td>Peru</td>\n",
       "      <td>1.240</td>\n",
       "      <td>1.206</td>\n",
       "      <td>1.423</td>\n",
       "      <td>1.617</td>\n",
       "      <td>1.410</td>\n",
       "      <td>1.187</td>\n",
       "      <td>1.187</td>\n",
       "    </tr>\n",
       "    <tr>\n",
       "      <th>8</th>\n",
       "      <td>S. &amp; Cent. America</td>\n",
       "      <td>Trinidad &amp; Tobago</td>\n",
       "      <td>0.830</td>\n",
       "      <td>0.830</td>\n",
       "      <td>0.830</td>\n",
       "      <td>0.830</td>\n",
       "      <td>0.830</td>\n",
       "      <td>0.728</td>\n",
       "      <td>0.243</td>\n",
       "    </tr>\n",
       "    <tr>\n",
       "      <th>9</th>\n",
       "      <td>S. &amp; Cent. America</td>\n",
       "      <td>Venezuela</td>\n",
       "      <td>296.501</td>\n",
       "      <td>297.571</td>\n",
       "      <td>297.735</td>\n",
       "      <td>298.350</td>\n",
       "      <td>299.953</td>\n",
       "      <td>300.878</td>\n",
       "      <td>300.978</td>\n",
       "    </tr>\n",
       "  </tbody>\n",
       "</table>\n",
       "</div>"
      ],
      "text/plain": [
       "               Region    Country/ Region     2010     2011     2012     2013  \\\n",
       "0       North America                 US   34.990   39.775   44.180   48.463   \n",
       "1       North America             Canada  174.848  174.177  173.716  173.038   \n",
       "2       North America             Mexico   11.691   11.394   11.424   11.079   \n",
       "3  S. & Cent. America          Argentina    2.524    2.525    2.354    2.330   \n",
       "4  S. & Cent. America             Brazil   14.246   15.050   15.314   15.593   \n",
       "5  S. & Cent. America           Colombia    1.900    1.988    2.200    2.377   \n",
       "6  S. & Cent. America            Ecuador    6.158    7.210    8.383    8.191   \n",
       "7  S. & Cent. America               Peru    1.240    1.206    1.423    1.617   \n",
       "8  S. & Cent. America  Trinidad & Tobago    0.830    0.830    0.830    0.830   \n",
       "9  S. & Cent. America          Venezuela  296.501  297.571  297.735  298.350   \n",
       "\n",
       "      2014     2015     2016  \n",
       "0   54.962   47.987   47.987  \n",
       "1  172.156  171.512  171.512  \n",
       "2   10.816    7.977    7.977  \n",
       "3    2.380    2.395    2.395  \n",
       "4   16.184   13.000   12.634  \n",
       "5    2.445    2.308    2.002  \n",
       "6    8.000    8.000    8.000  \n",
       "7    1.410    1.187    1.187  \n",
       "8    0.830    0.728    0.243  \n",
       "9  299.953  300.878  300.978  "
      ]
     },
     "execution_count": 120,
     "metadata": {},
     "output_type": "execute_result"
    }
   ],
   "source": [
    "dff=pd.read_csv('/home/sois/Documents/first_clas/data_visual/oil_reserves.csv')\n",
    "dff.head(10)"
   ]
  },
  {
   "cell_type": "code",
   "execution_count": 122,
   "metadata": {},
   "outputs": [
    {
     "data": {
      "text/plain": [
       "(54, 9)"
      ]
     },
     "execution_count": 122,
     "metadata": {},
     "output_type": "execute_result"
    }
   ],
   "source": [
    "dff.shape"
   ]
  },
  {
   "cell_type": "code",
   "execution_count": null,
   "metadata": {
    "collapsed": true
   },
   "outputs": [],
   "source": [
    "#1. Which region has max oil reserves from 2014 to 2016?"
   ]
  },
  {
   "cell_type": "code",
   "execution_count": 125,
   "metadata": {},
   "outputs": [
    {
     "data": {
      "text/html": [
       "<div>\n",
       "<style>\n",
       "    .dataframe thead tr:only-child th {\n",
       "        text-align: right;\n",
       "    }\n",
       "\n",
       "    .dataframe thead th {\n",
       "        text-align: left;\n",
       "    }\n",
       "\n",
       "    .dataframe tbody tr th {\n",
       "        vertical-align: top;\n",
       "    }\n",
       "</style>\n",
       "<table border=\"1\" class=\"dataframe\">\n",
       "  <thead>\n",
       "    <tr style=\"text-align: right;\">\n",
       "      <th></th>\n",
       "      <th>Region</th>\n",
       "      <th>2014</th>\n",
       "    </tr>\n",
       "  </thead>\n",
       "  <tbody>\n",
       "    <tr>\n",
       "      <th>9</th>\n",
       "      <td>S. &amp; Cent. America</td>\n",
       "      <td>299.953</td>\n",
       "    </tr>\n",
       "  </tbody>\n",
       "</table>\n",
       "</div>"
      ],
      "text/plain": [
       "               Region     2014\n",
       "9  S. & Cent. America  299.953"
      ]
     },
     "execution_count": 125,
     "metadata": {},
     "output_type": "execute_result"
    }
   ],
   "source": [
    "max_oil=dff[dff['2014']==dff['2014'].max()][['Region','2014']]\n",
    "max_oil"
   ]
  },
  {
   "cell_type": "code",
   "execution_count": 135,
   "metadata": {},
   "outputs": [
    {
     "ename": "KeyError",
     "evalue": "'2016'",
     "output_type": "error",
     "traceback": [
      "\u001b[0;31m---------------------------------------------------------------------------\u001b[0m",
      "\u001b[0;31mKeyError\u001b[0m                                  Traceback (most recent call last)",
      "\u001b[0;32m/home/sois/anaconda3/lib/python3.6/site-packages/pandas/core/indexes/base.py\u001b[0m in \u001b[0;36mget_loc\u001b[0;34m(self, key, method, tolerance)\u001b[0m\n\u001b[1;32m   2392\u001b[0m             \u001b[0;32mtry\u001b[0m\u001b[0;34m:\u001b[0m\u001b[0;34m\u001b[0m\u001b[0m\n\u001b[0;32m-> 2393\u001b[0;31m                 \u001b[0;32mreturn\u001b[0m \u001b[0mself\u001b[0m\u001b[0;34m.\u001b[0m\u001b[0m_engine\u001b[0m\u001b[0;34m.\u001b[0m\u001b[0mget_loc\u001b[0m\u001b[0;34m(\u001b[0m\u001b[0mkey\u001b[0m\u001b[0;34m)\u001b[0m\u001b[0;34m\u001b[0m\u001b[0m\n\u001b[0m\u001b[1;32m   2394\u001b[0m             \u001b[0;32mexcept\u001b[0m \u001b[0mKeyError\u001b[0m\u001b[0;34m:\u001b[0m\u001b[0;34m\u001b[0m\u001b[0m\n",
      "\u001b[0;32mpandas/_libs/index.pyx\u001b[0m in \u001b[0;36mpandas._libs.index.IndexEngine.get_loc (pandas/_libs/index.c:5239)\u001b[0;34m()\u001b[0m\n",
      "\u001b[0;32mpandas/_libs/index.pyx\u001b[0m in \u001b[0;36mpandas._libs.index.IndexEngine.get_loc (pandas/_libs/index.c:5085)\u001b[0;34m()\u001b[0m\n",
      "\u001b[0;32mpandas/_libs/hashtable_class_helper.pxi\u001b[0m in \u001b[0;36mpandas._libs.hashtable.PyObjectHashTable.get_item (pandas/_libs/hashtable.c:20405)\u001b[0;34m()\u001b[0m\n",
      "\u001b[0;32mpandas/_libs/hashtable_class_helper.pxi\u001b[0m in \u001b[0;36mpandas._libs.hashtable.PyObjectHashTable.get_item (pandas/_libs/hashtable.c:20359)\u001b[0;34m()\u001b[0m\n",
      "\u001b[0;31mKeyError\u001b[0m: '2016'",
      "\nDuring handling of the above exception, another exception occurred:\n",
      "\u001b[0;31mKeyError\u001b[0m                                  Traceback (most recent call last)",
      "\u001b[0;32m<ipython-input-135-c3640fe5adc0>\u001b[0m in \u001b[0;36m<module>\u001b[0;34m()\u001b[0m\n\u001b[1;32m      1\u001b[0m \u001b[0;31m#max_oil_yr=dff[dff['Cow Milk-2013-14']==df['Cow Milk-2013-14'].max()][['State/ UT Name','Cow Milk-2013-14']]\u001b[0m\u001b[0;34m\u001b[0m\u001b[0;34m\u001b[0m\u001b[0m\n\u001b[0;32m----> 2\u001b[0;31m \u001b[0mmax_oil_yr\u001b[0m\u001b[0;34m=\u001b[0m\u001b[0;34m(\u001b[0m\u001b[0mdff\u001b[0m\u001b[0;34m[\u001b[0m\u001b[0mdff\u001b[0m\u001b[0;34m[\u001b[0m\u001b[0;34m\"2014\"\u001b[0m\u001b[0;34m]\u001b[0m\u001b[0;34m+\u001b[0m\u001b[0mdff\u001b[0m\u001b[0;34m[\u001b[0m\u001b[0;34m\"2015\"\u001b[0m\u001b[0;34m]\u001b[0m\u001b[0;34m+\u001b[0m\u001b[0mdf\u001b[0m\u001b[0;34m[\u001b[0m\u001b[0;34m\"2016\"\u001b[0m\u001b[0;34m]\u001b[0m\u001b[0;34m]\u001b[0m\u001b[0;34m)\u001b[0m\u001b[0;34m\u001b[0m\u001b[0m\n\u001b[0m",
      "\u001b[0;32m/home/sois/anaconda3/lib/python3.6/site-packages/pandas/core/frame.py\u001b[0m in \u001b[0;36m__getitem__\u001b[0;34m(self, key)\u001b[0m\n\u001b[1;32m   2060\u001b[0m             \u001b[0;32mreturn\u001b[0m \u001b[0mself\u001b[0m\u001b[0;34m.\u001b[0m\u001b[0m_getitem_multilevel\u001b[0m\u001b[0;34m(\u001b[0m\u001b[0mkey\u001b[0m\u001b[0;34m)\u001b[0m\u001b[0;34m\u001b[0m\u001b[0m\n\u001b[1;32m   2061\u001b[0m         \u001b[0;32melse\u001b[0m\u001b[0;34m:\u001b[0m\u001b[0;34m\u001b[0m\u001b[0m\n\u001b[0;32m-> 2062\u001b[0;31m             \u001b[0;32mreturn\u001b[0m \u001b[0mself\u001b[0m\u001b[0;34m.\u001b[0m\u001b[0m_getitem_column\u001b[0m\u001b[0;34m(\u001b[0m\u001b[0mkey\u001b[0m\u001b[0;34m)\u001b[0m\u001b[0;34m\u001b[0m\u001b[0m\n\u001b[0m\u001b[1;32m   2063\u001b[0m \u001b[0;34m\u001b[0m\u001b[0m\n\u001b[1;32m   2064\u001b[0m     \u001b[0;32mdef\u001b[0m \u001b[0m_getitem_column\u001b[0m\u001b[0;34m(\u001b[0m\u001b[0mself\u001b[0m\u001b[0;34m,\u001b[0m \u001b[0mkey\u001b[0m\u001b[0;34m)\u001b[0m\u001b[0;34m:\u001b[0m\u001b[0;34m\u001b[0m\u001b[0m\n",
      "\u001b[0;32m/home/sois/anaconda3/lib/python3.6/site-packages/pandas/core/frame.py\u001b[0m in \u001b[0;36m_getitem_column\u001b[0;34m(self, key)\u001b[0m\n\u001b[1;32m   2067\u001b[0m         \u001b[0;31m# get column\u001b[0m\u001b[0;34m\u001b[0m\u001b[0;34m\u001b[0m\u001b[0m\n\u001b[1;32m   2068\u001b[0m         \u001b[0;32mif\u001b[0m \u001b[0mself\u001b[0m\u001b[0;34m.\u001b[0m\u001b[0mcolumns\u001b[0m\u001b[0;34m.\u001b[0m\u001b[0mis_unique\u001b[0m\u001b[0;34m:\u001b[0m\u001b[0;34m\u001b[0m\u001b[0m\n\u001b[0;32m-> 2069\u001b[0;31m             \u001b[0;32mreturn\u001b[0m \u001b[0mself\u001b[0m\u001b[0;34m.\u001b[0m\u001b[0m_get_item_cache\u001b[0m\u001b[0;34m(\u001b[0m\u001b[0mkey\u001b[0m\u001b[0;34m)\u001b[0m\u001b[0;34m\u001b[0m\u001b[0m\n\u001b[0m\u001b[1;32m   2070\u001b[0m \u001b[0;34m\u001b[0m\u001b[0m\n\u001b[1;32m   2071\u001b[0m         \u001b[0;31m# duplicate columns & possible reduce dimensionality\u001b[0m\u001b[0;34m\u001b[0m\u001b[0;34m\u001b[0m\u001b[0m\n",
      "\u001b[0;32m/home/sois/anaconda3/lib/python3.6/site-packages/pandas/core/generic.py\u001b[0m in \u001b[0;36m_get_item_cache\u001b[0;34m(self, item)\u001b[0m\n\u001b[1;32m   1532\u001b[0m         \u001b[0mres\u001b[0m \u001b[0;34m=\u001b[0m \u001b[0mcache\u001b[0m\u001b[0;34m.\u001b[0m\u001b[0mget\u001b[0m\u001b[0;34m(\u001b[0m\u001b[0mitem\u001b[0m\u001b[0;34m)\u001b[0m\u001b[0;34m\u001b[0m\u001b[0m\n\u001b[1;32m   1533\u001b[0m         \u001b[0;32mif\u001b[0m \u001b[0mres\u001b[0m \u001b[0;32mis\u001b[0m \u001b[0;32mNone\u001b[0m\u001b[0;34m:\u001b[0m\u001b[0;34m\u001b[0m\u001b[0m\n\u001b[0;32m-> 1534\u001b[0;31m             \u001b[0mvalues\u001b[0m \u001b[0;34m=\u001b[0m \u001b[0mself\u001b[0m\u001b[0;34m.\u001b[0m\u001b[0m_data\u001b[0m\u001b[0;34m.\u001b[0m\u001b[0mget\u001b[0m\u001b[0;34m(\u001b[0m\u001b[0mitem\u001b[0m\u001b[0;34m)\u001b[0m\u001b[0;34m\u001b[0m\u001b[0m\n\u001b[0m\u001b[1;32m   1535\u001b[0m             \u001b[0mres\u001b[0m \u001b[0;34m=\u001b[0m \u001b[0mself\u001b[0m\u001b[0;34m.\u001b[0m\u001b[0m_box_item_values\u001b[0m\u001b[0;34m(\u001b[0m\u001b[0mitem\u001b[0m\u001b[0;34m,\u001b[0m \u001b[0mvalues\u001b[0m\u001b[0;34m)\u001b[0m\u001b[0;34m\u001b[0m\u001b[0m\n\u001b[1;32m   1536\u001b[0m             \u001b[0mcache\u001b[0m\u001b[0;34m[\u001b[0m\u001b[0mitem\u001b[0m\u001b[0;34m]\u001b[0m \u001b[0;34m=\u001b[0m \u001b[0mres\u001b[0m\u001b[0;34m\u001b[0m\u001b[0m\n",
      "\u001b[0;32m/home/sois/anaconda3/lib/python3.6/site-packages/pandas/core/internals.py\u001b[0m in \u001b[0;36mget\u001b[0;34m(self, item, fastpath)\u001b[0m\n\u001b[1;32m   3588\u001b[0m \u001b[0;34m\u001b[0m\u001b[0m\n\u001b[1;32m   3589\u001b[0m             \u001b[0;32mif\u001b[0m \u001b[0;32mnot\u001b[0m \u001b[0misnull\u001b[0m\u001b[0;34m(\u001b[0m\u001b[0mitem\u001b[0m\u001b[0;34m)\u001b[0m\u001b[0;34m:\u001b[0m\u001b[0;34m\u001b[0m\u001b[0m\n\u001b[0;32m-> 3590\u001b[0;31m                 \u001b[0mloc\u001b[0m \u001b[0;34m=\u001b[0m \u001b[0mself\u001b[0m\u001b[0;34m.\u001b[0m\u001b[0mitems\u001b[0m\u001b[0;34m.\u001b[0m\u001b[0mget_loc\u001b[0m\u001b[0;34m(\u001b[0m\u001b[0mitem\u001b[0m\u001b[0;34m)\u001b[0m\u001b[0;34m\u001b[0m\u001b[0m\n\u001b[0m\u001b[1;32m   3591\u001b[0m             \u001b[0;32melse\u001b[0m\u001b[0;34m:\u001b[0m\u001b[0;34m\u001b[0m\u001b[0m\n\u001b[1;32m   3592\u001b[0m                 \u001b[0mindexer\u001b[0m \u001b[0;34m=\u001b[0m \u001b[0mnp\u001b[0m\u001b[0;34m.\u001b[0m\u001b[0marange\u001b[0m\u001b[0;34m(\u001b[0m\u001b[0mlen\u001b[0m\u001b[0;34m(\u001b[0m\u001b[0mself\u001b[0m\u001b[0;34m.\u001b[0m\u001b[0mitems\u001b[0m\u001b[0;34m)\u001b[0m\u001b[0;34m)\u001b[0m\u001b[0;34m[\u001b[0m\u001b[0misnull\u001b[0m\u001b[0;34m(\u001b[0m\u001b[0mself\u001b[0m\u001b[0;34m.\u001b[0m\u001b[0mitems\u001b[0m\u001b[0;34m)\u001b[0m\u001b[0;34m]\u001b[0m\u001b[0;34m\u001b[0m\u001b[0m\n",
      "\u001b[0;32m/home/sois/anaconda3/lib/python3.6/site-packages/pandas/core/indexes/base.py\u001b[0m in \u001b[0;36mget_loc\u001b[0;34m(self, key, method, tolerance)\u001b[0m\n\u001b[1;32m   2393\u001b[0m                 \u001b[0;32mreturn\u001b[0m \u001b[0mself\u001b[0m\u001b[0;34m.\u001b[0m\u001b[0m_engine\u001b[0m\u001b[0;34m.\u001b[0m\u001b[0mget_loc\u001b[0m\u001b[0;34m(\u001b[0m\u001b[0mkey\u001b[0m\u001b[0;34m)\u001b[0m\u001b[0;34m\u001b[0m\u001b[0m\n\u001b[1;32m   2394\u001b[0m             \u001b[0;32mexcept\u001b[0m \u001b[0mKeyError\u001b[0m\u001b[0;34m:\u001b[0m\u001b[0;34m\u001b[0m\u001b[0m\n\u001b[0;32m-> 2395\u001b[0;31m                 \u001b[0;32mreturn\u001b[0m \u001b[0mself\u001b[0m\u001b[0;34m.\u001b[0m\u001b[0m_engine\u001b[0m\u001b[0;34m.\u001b[0m\u001b[0mget_loc\u001b[0m\u001b[0;34m(\u001b[0m\u001b[0mself\u001b[0m\u001b[0;34m.\u001b[0m\u001b[0m_maybe_cast_indexer\u001b[0m\u001b[0;34m(\u001b[0m\u001b[0mkey\u001b[0m\u001b[0;34m)\u001b[0m\u001b[0;34m)\u001b[0m\u001b[0;34m\u001b[0m\u001b[0m\n\u001b[0m\u001b[1;32m   2396\u001b[0m \u001b[0;34m\u001b[0m\u001b[0m\n\u001b[1;32m   2397\u001b[0m         \u001b[0mindexer\u001b[0m \u001b[0;34m=\u001b[0m \u001b[0mself\u001b[0m\u001b[0;34m.\u001b[0m\u001b[0mget_indexer\u001b[0m\u001b[0;34m(\u001b[0m\u001b[0;34m[\u001b[0m\u001b[0mkey\u001b[0m\u001b[0;34m]\u001b[0m\u001b[0;34m,\u001b[0m \u001b[0mmethod\u001b[0m\u001b[0;34m=\u001b[0m\u001b[0mmethod\u001b[0m\u001b[0;34m,\u001b[0m \u001b[0mtolerance\u001b[0m\u001b[0;34m=\u001b[0m\u001b[0mtolerance\u001b[0m\u001b[0;34m)\u001b[0m\u001b[0;34m\u001b[0m\u001b[0m\n",
      "\u001b[0;32mpandas/_libs/index.pyx\u001b[0m in \u001b[0;36mpandas._libs.index.IndexEngine.get_loc (pandas/_libs/index.c:5239)\u001b[0;34m()\u001b[0m\n",
      "\u001b[0;32mpandas/_libs/index.pyx\u001b[0m in \u001b[0;36mpandas._libs.index.IndexEngine.get_loc (pandas/_libs/index.c:5085)\u001b[0;34m()\u001b[0m\n",
      "\u001b[0;32mpandas/_libs/hashtable_class_helper.pxi\u001b[0m in \u001b[0;36mpandas._libs.hashtable.PyObjectHashTable.get_item (pandas/_libs/hashtable.c:20405)\u001b[0;34m()\u001b[0m\n",
      "\u001b[0;32mpandas/_libs/hashtable_class_helper.pxi\u001b[0m in \u001b[0;36mpandas._libs.hashtable.PyObjectHashTable.get_item (pandas/_libs/hashtable.c:20359)\u001b[0;34m()\u001b[0m\n",
      "\u001b[0;31mKeyError\u001b[0m: '2016'"
     ]
    }
   ],
   "source": [
    "#max_oil_yr=dff[dff['Cow Milk-2013-14']==df['Cow Milk-2013-14'].max()][['State/ UT Name','Cow Milk-2013-14']]\n",
    "max_oil_yr=(dff[dff[\"2014\"]+dff[\"2015\"]+df[\"2016\"]])"
   ]
  },
  {
   "cell_type": "code",
   "execution_count": null,
   "metadata": {
    "collapsed": true
   },
   "outputs": [],
   "source": []
  },
  {
   "cell_type": "code",
   "execution_count": 150,
   "metadata": {},
   "outputs": [
    {
     "data": {
      "text/plain": [
       "2010    296.501\n",
       "2011    297.571\n",
       "2012    297.735\n",
       "2013    298.350\n",
       "2014    299.953\n",
       "2015    300.878\n",
       "2016    300.978\n",
       "dtype: float64"
      ]
     },
     "execution_count": 150,
     "metadata": {},
     "output_type": "execute_result"
    }
   ],
   "source": [
    "oil_res=dff[['2010','2011','2012','2013','2014','2015','2016']].max()\n",
    "oil_res"
   ]
  },
  {
   "cell_type": "code",
   "execution_count": 151,
   "metadata": {
    "collapsed": true
   },
   "outputs": [],
   "source": [
    "#2. With suitable visualization show the oil reserves of India from 2010 to 2016."
   ]
  },
  {
   "cell_type": "code",
   "execution_count": 163,
   "metadata": {},
   "outputs": [
    {
     "name": "stderr",
     "output_type": "stream",
     "text": [
      "/home/sois/anaconda3/lib/python3.6/site-packages/matplotlib/axes/_axes.py:545: UserWarning: No labelled objects found. Use label='...' kwarg on individual plots.\n",
      "  warnings.warn(\"No labelled objects found. \"\n"
     ]
    },
    {
     "data": {
      "image/png": "[encoded data removed]",
      "text/plain": [
       "<matplotlib.figure.Figure at 0x7fc412dfe518>"
      ]
     },
     "metadata": {},
     "output_type": "display_data"
    }
   ],
   "source": [
    "import matplotlib.pyplot as plt\n",
    "import numpy as np\n",
    "\n",
    "x=[2010,2011,2012,2013,2014,2015,2016]\n",
    "y=list(oil_res)\n",
    "plt.bar(x,y)\n",
    "plt.ylim(200,500)\n",
    "plt.xlabel('YEAR')\n",
    "plt.ylabel('REGIONS')\n",
    "plt.title('Oil reserves of India')\n",
    "plt.legend()\n",
    "plt.show()\n"
   ]
  },
  {
   "cell_type": "code",
   "execution_count": 157,
   "metadata": {},
   "outputs": [
    {
     "data": {
      "text/plain": [
       "[296.501, 297.57099999999997, 297.735, 298.35, 299.953, 300.878, 300.978]"
      ]
     },
     "execution_count": 157,
     "metadata": {},
     "output_type": "execute_result"
    }
   ],
   "source": [
    "x=list(oil_res)\n",
    "x"
   ]
  },
  {
   "cell_type": "code",
   "execution_count": null,
   "metadata": {
    "collapsed": true
   },
   "outputs": [],
   "source": [
    "#3. List the countries having maximum oil reserves in each region."
   ]
  },
  {
   "cell_type": "code",
   "execution_count": 161,
   "metadata": {},
   "outputs": [
    {
     "data": {
      "text/plain": [
       "9        Venezuela\n",
       "27    Saudi Arabia\n",
       "1           Canada\n",
       "22            Iran\n",
       "23            Iraq\n",
       "Name: Country/ Region, dtype: object"
      ]
     },
     "execution_count": 161,
     "metadata": {},
     "output_type": "execute_result"
    }
   ],
   "source": [
    "dff[\"con\"] =(dff[\"2010\"] + dff[\"2011\"] + dff[\"2013\"])+dff[\"2014\"]+dff[\"2015\"]+dff[\"2016\"].sort_values(ascending=False)\n",
    "\n",
    "dff.sort_values('con',ascending=False)[\"Country/ Region\"].head()"
   ]
  },
  {
   "cell_type": "code",
   "execution_count": null,
   "metadata": {
    "collapsed": true
   },
   "outputs": [],
   "source": []
  }
 ],
 "metadata": {
  "kernelspec": {
   "display_name": "Python 3",
   "language": "python",
   "name": "python3"
  },
  "language_info": {
   "codemirror_mode": {
    "name": "ipython",
    "version": 3
   },
   "file_extension": ".py",
   "mimetype": "text/x-python",
   "name": "python",
   "nbconvert_exporter": "python",
   "pygments_lexer": "ipython3",
   "version": "3.6.1"
  }
 },
 "nbformat": 4,
 "nbformat_minor": 2
}
