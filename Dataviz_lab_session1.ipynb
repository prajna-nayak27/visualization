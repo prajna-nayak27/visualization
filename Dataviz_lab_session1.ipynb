{
 "cells": [
  {
   "cell_type": "code",
   "execution_count": 1,
   "metadata": {
    "collapsed": true
   },
   "outputs": [],
   "source": [
    "import pandas as pd\n",
    "import matplotlib.pyplot as plt"
   ]
  },
  {
   "cell_type": "code",
   "execution_count": 4,
   "metadata": {},
   "outputs": [
    {
     "data": {
      "text/html": [
       "<div>\n",
       "<style>\n",
       "    .dataframe thead tr:only-child th {\n",
       "        text-align: right;\n",
       "    }\n",
       "\n",
       "    .dataframe thead th {\n",
       "        text-align: left;\n",
       "    }\n",
       "\n",
       "    .dataframe tbody tr th {\n",
       "        vertical-align: top;\n",
       "    }\n",
       "</style>\n",
       "<table border=\"1\" class=\"dataframe\">\n",
       "  <thead>\n",
       "    <tr style=\"text-align: right;\">\n",
       "      <th></th>\n",
       "      <th>YEAR</th>\n",
       "      <th>Actual Rainfall: JUN</th>\n",
       "      <th>Actual Rainfall: JUL</th>\n",
       "      <th>Actual Rainfall: AUG</th>\n",
       "      <th>Actual Rainfall: SEPT</th>\n",
       "      <th>Actual Rainfall: JUN-SEPT</th>\n",
       "      <th>Departure Percentage: JUN</th>\n",
       "      <th>Departure Percentage: JUL</th>\n",
       "      <th>Departure Percentage: AUG</th>\n",
       "      <th>Departure Percentage: SEP</th>\n",
       "      <th>Departure Percentage: JUN-SEPT</th>\n",
       "    </tr>\n",
       "  </thead>\n",
       "  <tbody>\n",
       "    <tr>\n",
       "      <th>0</th>\n",
       "      <td>1901</td>\n",
       "      <td>99.3</td>\n",
       "      <td>295.4</td>\n",
       "      <td>354.8</td>\n",
       "      <td>113.8</td>\n",
       "      <td>863.3</td>\n",
       "      <td>-39.6</td>\n",
       "      <td>-16.0</td>\n",
       "      <td>26.4</td>\n",
       "      <td>-38.5</td>\n",
       "      <td>-12.1</td>\n",
       "    </tr>\n",
       "    <tr>\n",
       "      <th>1</th>\n",
       "      <td>1902</td>\n",
       "      <td>62.3</td>\n",
       "      <td>334.2</td>\n",
       "      <td>237.6</td>\n",
       "      <td>216.0</td>\n",
       "      <td>850.0</td>\n",
       "      <td>-62.4</td>\n",
       "      <td>-4.8</td>\n",
       "      <td>-15.1</td>\n",
       "      <td>16.8</td>\n",
       "      <td>-13.4</td>\n",
       "    </tr>\n",
       "    <tr>\n",
       "      <th>2</th>\n",
       "      <td>1903</td>\n",
       "      <td>96.2</td>\n",
       "      <td>392.7</td>\n",
       "      <td>286.6</td>\n",
       "      <td>211.5</td>\n",
       "      <td>987.1</td>\n",
       "      <td>-42.7</td>\n",
       "      <td>11.0</td>\n",
       "      <td>2.1</td>\n",
       "      <td>13.1</td>\n",
       "      <td>-0.3</td>\n",
       "    </tr>\n",
       "    <tr>\n",
       "      <th>3</th>\n",
       "      <td>1904</td>\n",
       "      <td>180.5</td>\n",
       "      <td>259.1</td>\n",
       "      <td>200.9</td>\n",
       "      <td>165.8</td>\n",
       "      <td>806.3</td>\n",
       "      <td>7.5</td>\n",
       "      <td>-26.4</td>\n",
       "      <td>-28.1</td>\n",
       "      <td>-11.2</td>\n",
       "      <td>-18.2</td>\n",
       "    </tr>\n",
       "    <tr>\n",
       "      <th>4</th>\n",
       "      <td>1905</td>\n",
       "      <td>59.8</td>\n",
       "      <td>340.6</td>\n",
       "      <td>178.9</td>\n",
       "      <td>204.1</td>\n",
       "      <td>783.4</td>\n",
       "      <td>-64.4</td>\n",
       "      <td>-3.2</td>\n",
       "      <td>-36.0</td>\n",
       "      <td>9.5</td>\n",
       "      <td>-20.5</td>\n",
       "    </tr>\n",
       "  </tbody>\n",
       "</table>\n",
       "</div>"
      ],
      "text/plain": [
       "   YEAR  Actual Rainfall: JUN  Actual Rainfall: JUL  Actual Rainfall: AUG  \\\n",
       "0  1901                  99.3                 295.4                 354.8   \n",
       "1  1902                  62.3                 334.2                 237.6   \n",
       "2  1903                  96.2                 392.7                 286.6   \n",
       "3  1904                 180.5                 259.1                 200.9   \n",
       "4  1905                  59.8                 340.6                 178.9   \n",
       "\n",
       "   Actual Rainfall: SEPT  Actual Rainfall: JUN-SEPT  \\\n",
       "0                  113.8                      863.3   \n",
       "1                  216.0                      850.0   \n",
       "2                  211.5                      987.1   \n",
       "3                  165.8                      806.3   \n",
       "4                  204.1                      783.4   \n",
       "\n",
       "   Departure Percentage: JUN  Departure Percentage: JUL  \\\n",
       "0                      -39.6                      -16.0   \n",
       "1                      -62.4                       -4.8   \n",
       "2                      -42.7                       11.0   \n",
       "3                        7.5                      -26.4   \n",
       "4                      -64.4                       -3.2   \n",
       "\n",
       "   Departure Percentage: AUG  Departure Percentage: SEP  \\\n",
       "0                       26.4                      -38.5   \n",
       "1                      -15.1                       16.8   \n",
       "2                        2.1                       13.1   \n",
       "3                      -28.1                      -11.2   \n",
       "4                      -36.0                        9.5   \n",
       "\n",
       "   Departure Percentage: JUN-SEPT  \n",
       "0                           -12.1  \n",
       "1                           -13.4  \n",
       "2                            -0.3  \n",
       "3                           -18.2  \n",
       "4                           -20.5  "
      ]
     },
     "execution_count": 4,
     "metadata": {},
     "output_type": "execute_result"
    }
   ],
   "source": [
    "d1=pd.read_csv('/home/sois/Downloads/Rainfall/central-India_rainfall_act_dep_1901_2016.csv')\n",
    "d1.head(5)"
   ]
  },
  {
   "cell_type": "code",
   "execution_count": 79,
   "metadata": {},
   "outputs": [
    {
     "data": {
      "text/plain": [
       "(116, 11)"
      ]
     },
     "execution_count": 79,
     "metadata": {},
     "output_type": "execute_result"
    }
   ],
   "source": [
    "d1.shape"
   ]
  },
  {
   "cell_type": "code",
   "execution_count": 23,
   "metadata": {},
   "outputs": [
    {
     "data": {
      "text/html": [
       "<div>\n",
       "<style>\n",
       "    .dataframe thead tr:only-child th {\n",
       "        text-align: right;\n",
       "    }\n",
       "\n",
       "    .dataframe thead th {\n",
       "        text-align: left;\n",
       "    }\n",
       "\n",
       "    .dataframe tbody tr th {\n",
       "        vertical-align: top;\n",
       "    }\n",
       "</style>\n",
       "<table border=\"1\" class=\"dataframe\">\n",
       "  <thead>\n",
       "    <tr style=\"text-align: right;\">\n",
       "      <th></th>\n",
       "      <th>YEAR</th>\n",
       "      <th>Actual Rainfall: JUN</th>\n",
       "      <th>Actual Rainfall: JUL</th>\n",
       "      <th>Actual Rainfall: AUG</th>\n",
       "      <th>Actual Rainfall: SEPT</th>\n",
       "      <th>Actual Rainfall: JUN-SEPT</th>\n",
       "      <th>Departure Percentage: JUN</th>\n",
       "      <th>Departure Percentage: JUL</th>\n",
       "      <th>Departure Percentage: AUG</th>\n",
       "      <th>Departure Percentage: SEP</th>\n",
       "      <th>Departure Percentage: JUN-SEPT</th>\n",
       "    </tr>\n",
       "  </thead>\n",
       "  <tbody>\n",
       "    <tr>\n",
       "      <th>0</th>\n",
       "      <td>1901</td>\n",
       "      <td>252.3</td>\n",
       "      <td>304.1</td>\n",
       "      <td>364.0</td>\n",
       "      <td>235.9</td>\n",
       "      <td>1156.3</td>\n",
       "      <td>-18.2</td>\n",
       "      <td>-17.0</td>\n",
       "      <td>3.4</td>\n",
       "      <td>-8.8</td>\n",
       "      <td>-10.1</td>\n",
       "    </tr>\n",
       "    <tr>\n",
       "      <th>1</th>\n",
       "      <td>1902</td>\n",
       "      <td>276.4</td>\n",
       "      <td>388.4</td>\n",
       "      <td>306.4</td>\n",
       "      <td>346.1</td>\n",
       "      <td>1317.2</td>\n",
       "      <td>-10.1</td>\n",
       "      <td>6.2</td>\n",
       "      <td>-12.8</td>\n",
       "      <td>34.0</td>\n",
       "      <td>2.7</td>\n",
       "    </tr>\n",
       "    <tr>\n",
       "      <th>2</th>\n",
       "      <td>1903</td>\n",
       "      <td>318.1</td>\n",
       "      <td>214.4</td>\n",
       "      <td>374.0</td>\n",
       "      <td>254.1</td>\n",
       "      <td>1160.6</td>\n",
       "      <td>3.5</td>\n",
       "      <td>-41.3</td>\n",
       "      <td>6.4</td>\n",
       "      <td>-1.5</td>\n",
       "      <td>-9.5</td>\n",
       "    </tr>\n",
       "    <tr>\n",
       "      <th>3</th>\n",
       "      <td>1904</td>\n",
       "      <td>294.8</td>\n",
       "      <td>424.7</td>\n",
       "      <td>355.1</td>\n",
       "      <td>168.4</td>\n",
       "      <td>1243.0</td>\n",
       "      <td>-4.0</td>\n",
       "      <td>15.9</td>\n",
       "      <td>0.9</td>\n",
       "      <td>-34.7</td>\n",
       "      <td>-3.2</td>\n",
       "    </tr>\n",
       "    <tr>\n",
       "      <th>4</th>\n",
       "      <td>1905</td>\n",
       "      <td>205.0</td>\n",
       "      <td>429.9</td>\n",
       "      <td>445.6</td>\n",
       "      <td>302.6</td>\n",
       "      <td>1383.1</td>\n",
       "      <td>-33.2</td>\n",
       "      <td>17.4</td>\n",
       "      <td>26.5</td>\n",
       "      <td>17.3</td>\n",
       "      <td>7.8</td>\n",
       "    </tr>\n",
       "  </tbody>\n",
       "</table>\n",
       "</div>"
      ],
      "text/plain": [
       "   YEAR  Actual Rainfall: JUN  Actual Rainfall: JUL  Actual Rainfall: AUG  \\\n",
       "0  1901                 252.3                 304.1                 364.0   \n",
       "1  1902                 276.4                 388.4                 306.4   \n",
       "2  1903                 318.1                 214.4                 374.0   \n",
       "3  1904                 294.8                 424.7                 355.1   \n",
       "4  1905                 205.0                 429.9                 445.6   \n",
       "\n",
       "   Actual Rainfall: SEPT  Actual Rainfall: JUN-SEPT  \\\n",
       "0                  235.9                     1156.3   \n",
       "1                  346.1                     1317.2   \n",
       "2                  254.1                     1160.6   \n",
       "3                  168.4                     1243.0   \n",
       "4                  302.6                     1383.1   \n",
       "\n",
       "   Departure Percentage: JUN  Departure Percentage: JUL  \\\n",
       "0                      -18.2                      -17.0   \n",
       "1                      -10.1                        6.2   \n",
       "2                        3.5                      -41.3   \n",
       "3                       -4.0                       15.9   \n",
       "4                      -33.2                       17.4   \n",
       "\n",
       "   Departure Percentage: AUG  Departure Percentage: SEP  \\\n",
       "0                        3.4                       -8.8   \n",
       "1                      -12.8                       34.0   \n",
       "2                        6.4                       -1.5   \n",
       "3                        0.9                      -34.7   \n",
       "4                       26.5                       17.3   \n",
       "\n",
       "   Departure Percentage: JUN-SEPT  \n",
       "0                           -10.1  \n",
       "1                             2.7  \n",
       "2                            -9.5  \n",
       "3                            -3.2  \n",
       "4                             7.8  "
      ]
     },
     "execution_count": 23,
     "metadata": {},
     "output_type": "execute_result"
    }
   ],
   "source": [
    "d2=pd.read_csv('/home/sois/Downloads/Rainfall/ne-India_rainfall_act_dep_1901_2016.csv')\n",
    "d2.head()"
   ]
  },
  {
   "cell_type": "code",
   "execution_count": 24,
   "metadata": {},
   "outputs": [
    {
     "data": {
      "text/plain": [
       "(116, 11)"
      ]
     },
     "execution_count": 24,
     "metadata": {},
     "output_type": "execute_result"
    }
   ],
   "source": [
    "d2.shape"
   ]
  },
  {
   "cell_type": "code",
   "execution_count": 78,
   "metadata": {},
   "outputs": [
    {
     "data": {
      "text/plain": [
       "(116, 11)"
      ]
     },
     "execution_count": 78,
     "metadata": {},
     "output_type": "execute_result"
    }
   ],
   "source": [
    "d3=pd.read_csv('/home/sois/Downloads/Rainfall/nw-India_rainfall_act_dep_1901_2016.csv')\n",
    "d3.head()\n",
    "d3.shape"
   ]
  },
  {
   "cell_type": "code",
   "execution_count": null,
   "metadata": {
    "collapsed": true
   },
   "outputs": [],
   "source": []
  },
  {
   "cell_type": "code",
   "execution_count": 26,
   "metadata": {},
   "outputs": [
    {
     "data": {
      "text/html": [
       "<div>\n",
       "<style>\n",
       "    .dataframe thead tr:only-child th {\n",
       "        text-align: right;\n",
       "    }\n",
       "\n",
       "    .dataframe thead th {\n",
       "        text-align: left;\n",
       "    }\n",
       "\n",
       "    .dataframe tbody tr th {\n",
       "        vertical-align: top;\n",
       "    }\n",
       "</style>\n",
       "<table border=\"1\" class=\"dataframe\">\n",
       "  <thead>\n",
       "    <tr style=\"text-align: right;\">\n",
       "      <th></th>\n",
       "      <th>YEAR</th>\n",
       "      <th>Actual Rainfall: JUN</th>\n",
       "      <th>Actual Rainfall: JUL</th>\n",
       "      <th>Actual Rainfall: AUG</th>\n",
       "      <th>Actual Rainfall: SEPT</th>\n",
       "      <th>Departure Percentage: JUN</th>\n",
       "      <th>Departure Percentage: JUL</th>\n",
       "      <th>Departure Percentage: AUG</th>\n",
       "      <th>Departure Percentage: SEP</th>\n",
       "      <th>Departure Percentage: JUN-SEPT</th>\n",
       "    </tr>\n",
       "  </thead>\n",
       "  <tbody>\n",
       "    <tr>\n",
       "      <th>0</th>\n",
       "      <td>1901</td>\n",
       "      <td>155.8</td>\n",
       "      <td>191.5</td>\n",
       "      <td>138.4</td>\n",
       "      <td>137.1</td>\n",
       "      <td>-1.7</td>\n",
       "      <td>-10.1</td>\n",
       "      <td>-18.5</td>\n",
       "      <td>-15.1</td>\n",
       "      <td>-11.4</td>\n",
       "    </tr>\n",
       "    <tr>\n",
       "      <th>1</th>\n",
       "      <td>1902</td>\n",
       "      <td>118.9</td>\n",
       "      <td>214.4</td>\n",
       "      <td>159.7</td>\n",
       "      <td>193.7</td>\n",
       "      <td>-25.3</td>\n",
       "      <td>0.2</td>\n",
       "      <td>-6.2</td>\n",
       "      <td>19.9</td>\n",
       "      <td>-2.6</td>\n",
       "    </tr>\n",
       "    <tr>\n",
       "      <th>2</th>\n",
       "      <td>1903</td>\n",
       "      <td>141.0</td>\n",
       "      <td>300.2</td>\n",
       "      <td>206.2</td>\n",
       "      <td>212.5</td>\n",
       "      <td>-12.0</td>\n",
       "      <td>39.6</td>\n",
       "      <td>20.7</td>\n",
       "      <td>31.3</td>\n",
       "      <td>21.5</td>\n",
       "    </tr>\n",
       "    <tr>\n",
       "      <th>3</th>\n",
       "      <td>1904</td>\n",
       "      <td>191.9</td>\n",
       "      <td>191.4</td>\n",
       "      <td>89.5</td>\n",
       "      <td>130.6</td>\n",
       "      <td>19.4</td>\n",
       "      <td>-11.1</td>\n",
       "      <td>-47.6</td>\n",
       "      <td>-19.3</td>\n",
       "      <td>-14.9</td>\n",
       "    </tr>\n",
       "    <tr>\n",
       "      <th>4</th>\n",
       "      <td>1905</td>\n",
       "      <td>153.5</td>\n",
       "      <td>120.6</td>\n",
       "      <td>187.6</td>\n",
       "      <td>99.0</td>\n",
       "      <td>-4.0</td>\n",
       "      <td>-43.1</td>\n",
       "      <td>10.4</td>\n",
       "      <td>-38.6</td>\n",
       "      <td>-20.3</td>\n",
       "    </tr>\n",
       "  </tbody>\n",
       "</table>\n",
       "</div>"
      ],
      "text/plain": [
       "   YEAR  Actual Rainfall: JUN  Actual Rainfall: JUL  Actual Rainfall: AUG  \\\n",
       "0  1901                 155.8                 191.5                 138.4   \n",
       "1  1902                 118.9                 214.4                 159.7   \n",
       "2  1903                 141.0                 300.2                 206.2   \n",
       "3  1904                 191.9                 191.4                  89.5   \n",
       "4  1905                 153.5                 120.6                 187.6   \n",
       "\n",
       "   Actual Rainfall: SEPT  Departure Percentage: JUN  \\\n",
       "0                  137.1                       -1.7   \n",
       "1                  193.7                      -25.3   \n",
       "2                  212.5                      -12.0   \n",
       "3                  130.6                       19.4   \n",
       "4                   99.0                       -4.0   \n",
       "\n",
       "   Departure Percentage: JUL  Departure Percentage: AUG  \\\n",
       "0                      -10.1                      -18.5   \n",
       "1                        0.2                       -6.2   \n",
       "2                       39.6                       20.7   \n",
       "3                      -11.1                      -47.6   \n",
       "4                      -43.1                       10.4   \n",
       "\n",
       "   Departure Percentage: SEP  Departure Percentage: JUN-SEPT  \n",
       "0                      -15.1                           -11.4  \n",
       "1                       19.9                            -2.6  \n",
       "2                       31.3                            21.5  \n",
       "3                      -19.3                           -14.9  \n",
       "4                      -38.6                           -20.3  "
      ]
     },
     "execution_count": 26,
     "metadata": {},
     "output_type": "execute_result"
    }
   ],
   "source": [
    "d4=pd.read_csv('/home/sois/Downloads/Rainfall/south_pen-India_rainfall_act_dep_1901_2016.csv')\n",
    "d4.head()"
   ]
  },
  {
   "cell_type": "code",
   "execution_count": 77,
   "metadata": {},
   "outputs": [
    {
     "data": {
      "text/plain": [
       "(116, 10)"
      ]
     },
     "execution_count": 77,
     "metadata": {},
     "output_type": "execute_result"
    }
   ],
   "source": [
    "d4.shape"
   ]
  },
  {
   "cell_type": "code",
   "execution_count": 7,
   "metadata": {},
   "outputs": [
    {
     "data": {
      "text/plain": [
       "Index(['YEAR', 'Actual Rainfall: JUN', 'Actual Rainfall: JUL',\n",
       "       'Actual Rainfall: AUG', 'Actual Rainfall: SEPT',\n",
       "       'Actual Rainfall: JUN-SEPT', 'Departure Percentage: JUN',\n",
       "       'Departure Percentage: JUL', 'Departure Percentage: AUG',\n",
       "       'Departure Percentage: SEP', 'Departure Percentage: JUN-SEPT'],\n",
       "      dtype='object')"
      ]
     },
     "execution_count": 7,
     "metadata": {},
     "output_type": "execute_result"
    }
   ],
   "source": [
    "d1.columns"
   ]
  },
  {
   "cell_type": "code",
   "execution_count": 10,
   "metadata": {},
   "outputs": [
    {
     "data": {
      "text/plain": [
       "0    1901\n",
       "1    1902\n",
       "2    1903\n",
       "3    1904\n",
       "4    1905\n",
       "Name: YEAR, dtype: int64"
      ]
     },
     "execution_count": 10,
     "metadata": {},
     "output_type": "execute_result"
    }
   ],
   "source": [
    "d1['YEAR'].head()"
   ]
  },
  {
   "cell_type": "code",
   "execution_count": 15,
   "metadata": {},
   "outputs": [],
   "source": [
    "import glob\n",
    "\n",
    "path = r'/home/sois/Downloads/Rainfall' # use your path\n",
    "f5_all = glob.glob(path + \"/*.csv\")\n",
    "\n",
    "li = []\n",
    "\n",
    "for filename in f5_all:\n",
    "    df = pd.read_csv(filename, index_col=None, header=0)\n",
    "    li.append(df)\n",
    "\n",
    "d5_frame = pd.concat(li, axis=0, ignore_index=True)"
   ]
  },
  {
   "cell_type": "code",
   "execution_count": 21,
   "metadata": {},
   "outputs": [
    {
     "data": {
      "text/plain": [
       "(464, 11)"
      ]
     },
     "execution_count": 21,
     "metadata": {},
     "output_type": "execute_result"
    }
   ],
   "source": [
    "d5_frame.shape"
   ]
  },
  {
   "cell_type": "code",
   "execution_count": 22,
   "metadata": {},
   "outputs": [
    {
     "data": {
      "text/html": [
       "<div>\n",
       "<style>\n",
       "    .dataframe thead tr:only-child th {\n",
       "        text-align: right;\n",
       "    }\n",
       "\n",
       "    .dataframe thead th {\n",
       "        text-align: left;\n",
       "    }\n",
       "\n",
       "    .dataframe tbody tr th {\n",
       "        vertical-align: top;\n",
       "    }\n",
       "</style>\n",
       "<table border=\"1\" class=\"dataframe\">\n",
       "  <thead>\n",
       "    <tr style=\"text-align: right;\">\n",
       "      <th></th>\n",
       "      <th>Actual Rainfall: AUG</th>\n",
       "      <th>Actual Rainfall: JUL</th>\n",
       "      <th>Actual Rainfall: JUN</th>\n",
       "      <th>Actual Rainfall: JUN-SEPT</th>\n",
       "      <th>Actual Rainfall: SEPT</th>\n",
       "      <th>Departure Percentage: AUG</th>\n",
       "      <th>Departure Percentage: JUL</th>\n",
       "      <th>Departure Percentage: JUN</th>\n",
       "      <th>Departure Percentage: JUN-SEPT</th>\n",
       "      <th>Departure Percentage: SEP</th>\n",
       "      <th>YEAR</th>\n",
       "    </tr>\n",
       "  </thead>\n",
       "  <tbody>\n",
       "    <tr>\n",
       "      <th>0</th>\n",
       "      <td>264.1</td>\n",
       "      <td>185.2</td>\n",
       "      <td>22.7</td>\n",
       "      <td>542.7</td>\n",
       "      <td>70.6</td>\n",
       "      <td>9.1</td>\n",
       "      <td>-21.5</td>\n",
       "      <td>-67.2</td>\n",
       "      <td>-18.5</td>\n",
       "      <td>-40.5</td>\n",
       "      <td>1901</td>\n",
       "    </tr>\n",
       "    <tr>\n",
       "      <th>1</th>\n",
       "      <td>143.8</td>\n",
       "      <td>225.2</td>\n",
       "      <td>59.9</td>\n",
       "      <td>555.1</td>\n",
       "      <td>126.1</td>\n",
       "      <td>-40.1</td>\n",
       "      <td>-3.8</td>\n",
       "      <td>-13.0</td>\n",
       "      <td>-16.0</td>\n",
       "      <td>7.2</td>\n",
       "      <td>1902</td>\n",
       "    </tr>\n",
       "    <tr>\n",
       "      <th>2</th>\n",
       "      <td>275.2</td>\n",
       "      <td>211.7</td>\n",
       "      <td>26.2</td>\n",
       "      <td>680.9</td>\n",
       "      <td>167.9</td>\n",
       "      <td>16.3</td>\n",
       "      <td>-8.5</td>\n",
       "      <td>-61.4</td>\n",
       "      <td>4.3</td>\n",
       "      <td>43.3</td>\n",
       "      <td>1903</td>\n",
       "    </tr>\n",
       "    <tr>\n",
       "      <th>3</th>\n",
       "      <td>234.0</td>\n",
       "      <td>253.7</td>\n",
       "      <td>53.4</td>\n",
       "      <td>611.7</td>\n",
       "      <td>70.6</td>\n",
       "      <td>-1.0</td>\n",
       "      <td>10.0</td>\n",
       "      <td>-21.6</td>\n",
       "      <td>-6.2</td>\n",
       "      <td>-39.6</td>\n",
       "      <td>1904</td>\n",
       "    </tr>\n",
       "    <tr>\n",
       "      <th>4</th>\n",
       "      <td>128.3</td>\n",
       "      <td>162.9</td>\n",
       "      <td>23.1</td>\n",
       "      <td>449.6</td>\n",
       "      <td>135.3</td>\n",
       "      <td>-45.7</td>\n",
       "      <td>-29.3</td>\n",
       "      <td>-65.5</td>\n",
       "      <td>-30.9</td>\n",
       "      <td>15.6</td>\n",
       "      <td>1905</td>\n",
       "    </tr>\n",
       "  </tbody>\n",
       "</table>\n",
       "</div>"
      ],
      "text/plain": [
       "   Actual Rainfall: AUG  Actual Rainfall: JUL  Actual Rainfall: JUN  \\\n",
       "0                 264.1                 185.2                  22.7   \n",
       "1                 143.8                 225.2                  59.9   \n",
       "2                 275.2                 211.7                  26.2   \n",
       "3                 234.0                 253.7                  53.4   \n",
       "4                 128.3                 162.9                  23.1   \n",
       "\n",
       "   Actual Rainfall: JUN-SEPT  Actual Rainfall: SEPT  \\\n",
       "0                      542.7                   70.6   \n",
       "1                      555.1                  126.1   \n",
       "2                      680.9                  167.9   \n",
       "3                      611.7                   70.6   \n",
       "4                      449.6                  135.3   \n",
       "\n",
       "   Departure Percentage: AUG  Departure Percentage: JUL  \\\n",
       "0                        9.1                      -21.5   \n",
       "1                      -40.1                       -3.8   \n",
       "2                       16.3                       -8.5   \n",
       "3                       -1.0                       10.0   \n",
       "4                      -45.7                      -29.3   \n",
       "\n",
       "   Departure Percentage: JUN  Departure Percentage: JUN-SEPT  \\\n",
       "0                      -67.2                           -18.5   \n",
       "1                      -13.0                           -16.0   \n",
       "2                      -61.4                             4.3   \n",
       "3                      -21.6                            -6.2   \n",
       "4                      -65.5                           -30.9   \n",
       "\n",
       "   Departure Percentage: SEP  YEAR  \n",
       "0                      -40.5  1901  \n",
       "1                        7.2  1902  \n",
       "2                       43.3  1903  \n",
       "3                      -39.6  1904  \n",
       "4                       15.6  1905  "
      ]
     },
     "execution_count": 22,
     "metadata": {},
     "output_type": "execute_result"
    }
   ],
   "source": [
    "d5_frame.head()"
   ]
  },
  {
   "cell_type": "code",
   "execution_count": null,
   "metadata": {
    "collapsed": true
   },
   "outputs": [],
   "source": [
    "#1. Which year has more rain in June in the southern region?"
   ]
  },
  {
   "cell_type": "code",
   "execution_count": 56,
   "metadata": {},
   "outputs": [
    {
     "data": {
      "text/plain": [
       "278.0"
      ]
     },
     "execution_count": 56,
     "metadata": {},
     "output_type": "execute_result"
    }
   ],
   "source": [
    "d4['Actual Rainfall: JUN'].max()"
   ]
  },
  {
   "cell_type": "code",
   "execution_count": 68,
   "metadata": {
    "scrolled": true
   },
   "outputs": [
    {
     "data": {
      "text/html": [
       "<div>\n",
       "<style>\n",
       "    .dataframe thead tr:only-child th {\n",
       "        text-align: right;\n",
       "    }\n",
       "\n",
       "    .dataframe thead th {\n",
       "        text-align: left;\n",
       "    }\n",
       "\n",
       "    .dataframe tbody tr th {\n",
       "        vertical-align: top;\n",
       "    }\n",
       "</style>\n",
       "<table border=\"1\" class=\"dataframe\">\n",
       "  <thead>\n",
       "    <tr style=\"text-align: right;\">\n",
       "      <th></th>\n",
       "      <th>YEAR</th>\n",
       "      <th>Actual Rainfall: JUN</th>\n",
       "      <th>Actual Rainfall: JUL</th>\n",
       "      <th>Actual Rainfall: AUG</th>\n",
       "      <th>Actual Rainfall: SEPT</th>\n",
       "      <th>Departure Percentage: JUN</th>\n",
       "      <th>Departure Percentage: JUL</th>\n",
       "      <th>Departure Percentage: AUG</th>\n",
       "      <th>Departure Percentage: SEP</th>\n",
       "      <th>Departure Percentage: JUN-SEPT</th>\n",
       "    </tr>\n",
       "  </thead>\n",
       "  <tbody>\n",
       "    <tr>\n",
       "      <th>90</th>\n",
       "      <td>1991</td>\n",
       "      <td>278.0</td>\n",
       "      <td>239.3</td>\n",
       "      <td>167.2</td>\n",
       "      <td>135.5</td>\n",
       "      <td>69.4</td>\n",
       "      <td>2.5</td>\n",
       "      <td>-9.2</td>\n",
       "      <td>-16.9</td>\n",
       "      <td>10.1</td>\n",
       "    </tr>\n",
       "  </tbody>\n",
       "</table>\n",
       "</div>"
      ],
      "text/plain": [
       "    YEAR  Actual Rainfall: JUN  Actual Rainfall: JUL  Actual Rainfall: AUG  \\\n",
       "90  1991                 278.0                 239.3                 167.2   \n",
       "\n",
       "    Actual Rainfall: SEPT  Departure Percentage: JUN  \\\n",
       "90                  135.5                       69.4   \n",
       "\n",
       "    Departure Percentage: JUL  Departure Percentage: AUG  \\\n",
       "90                        2.5                       -9.2   \n",
       "\n",
       "    Departure Percentage: SEP  Departure Percentage: JUN-SEPT  \n",
       "90                      -16.9                            10.1  "
      ]
     },
     "execution_count": 68,
     "metadata": {},
     "output_type": "execute_result"
    }
   ],
   "source": [
    "#d4.groupby(['YEAR'])['Actual Rainfall: JUN'].max()\n",
    "r2=d4[d4['Actual Rainfall: JUN']==d4['Actual Rainfall: JUN'].max()]\n",
    "r2\n"
   ]
  },
  {
   "cell_type": "code",
   "execution_count": 69,
   "metadata": {},
   "outputs": [
    {
     "data": {
      "text/plain": [
       "90    1991\n",
       "Name: YEAR, dtype: int64"
      ]
     },
     "execution_count": 69,
     "metadata": {},
     "output_type": "execute_result"
    }
   ],
   "source": [
    "d4[d4['Actual Rainfall: JUN']==d4['Actual Rainfall: JUN'].max()]['YEAR']"
   ]
  },
  {
   "cell_type": "code",
   "execution_count": 66,
   "metadata": {},
   "outputs": [
    {
     "data": {
      "text/plain": [
       "90    1991\n",
       "Name: YEAR, dtype: int64"
      ]
     },
     "execution_count": 66,
     "metadata": {},
     "output_type": "execute_result"
    }
   ],
   "source": [
    "r2['YEAR']"
   ]
  },
  {
   "cell_type": "code",
   "execution_count": null,
   "metadata": {},
   "outputs": [],
   "source": [
    "#d4.groupby(['YEAR'])."
   ]
  },
  {
   "cell_type": "code",
   "execution_count": 53,
   "metadata": {},
   "outputs": [],
   "source": [
    "#d1_res=d1[d1['YEAR']['Actual Rainfall: JUN']].max('')"
   ]
  },
  {
   "cell_type": "code",
   "execution_count": null,
   "metadata": {
    "collapsed": true
   },
   "outputs": [],
   "source": []
  },
  {
   "cell_type": "code",
   "execution_count": null,
   "metadata": {
    "collapsed": true
   },
   "outputs": [],
   "source": [
    "# 2. Find the top 5 dry years in south, north-east, north-west and central India."
   ]
  },
  {
   "cell_type": "code",
   "execution_count": 81,
   "metadata": {},
   "outputs": [
    {
     "data": {
      "text/plain": [
       "104    2005\n",
       "Name: YEAR, dtype: int64"
      ]
     },
     "execution_count": 81,
     "metadata": {},
     "output_type": "execute_result"
    }
   ],
   "source": [
    "#min_raindall=d4[d4['Actual Rainfall: JUN-SEPT']==d4['Actual Rainfall: JUN-SEPT'].min()]\n",
    "min_rain=d2[d2['Actual Rainfall: JUN-SEPT']==d2['Actual Rainfall: JUN-SEPT'].min()]['YEAR']\n",
    "min_rain"
   ]
  },
  {
   "cell_type": "code",
   "execution_count": 100,
   "metadata": {},
   "outputs": [
    {
     "name": "stdout",
     "output_type": "stream",
     "text": [
      "North-East: [2005, 2013, 1992, 2009, 1972]\n",
      "\n",
      "North-West: [1918, 1979, 1987, 2009, 1965]\n",
      "\n",
      "Central India: [1918, 1987, 1974, 1972, 1920]\n"
     ]
    }
   ],
   "source": [
    "#d2[d2['Actual Rainfall: JUN-SEPT']==d2['Actual Rainfall: JUN-SEPT'].min()]['YEAR']\n",
    "s1=d2.nsmallest(5, ['Actual Rainfall: JUN-SEPT'])['YEAR']\n",
    "print(\"North-East:\",list(s1))\n",
    "s2=d3.nsmallest(5, ['Actual Rainfall: JUN-SEPT'])['YEAR']\n",
    "print('\\n'\"North-West:\", list(s2))\n",
    "\n",
    "s3=d1.nsmallest(5, ['Actual Rainfall: JUN-SEPT'])['YEAR']\n",
    "print('\\n'\"Central India:\", list(s3))\n",
    "\n",
    "#s4=d4.nsmallest(5, ['Actual Rainfall: JUN-SEPT'])['YEAR']\n",
    "#print('\\n'\"South:\", list(s4))"
   ]
  },
  {
   "cell_type": "code",
   "execution_count": null,
   "metadata": {
    "collapsed": true
   },
   "outputs": [],
   "source": [
    "#3. Write a method which takes inputs – region and Month and return the year during which max rain occurred. \n",
    "#(region: south, north-east, north-west and central India (this goes as file name), \n",
    "#month: June, July, August and September)."
   ]
  },
  {
   "cell_type": "code",
   "execution_count": 151,
   "metadata": {},
   "outputs": [
    {
     "name": "stdout",
     "output_type": "stream",
     "text": [
      "region:central\n",
      "month:june\n"
     ]
    },
    {
     "ename": "SyntaxError",
     "evalue": "'return' outside function (<ipython-input-151-f9d51455b0f2>, line 6)",
     "output_type": "error",
     "traceback": [
      "\u001b[0;36m  File \u001b[0;32m\"<ipython-input-151-f9d51455b0f2>\"\u001b[0;36m, line \u001b[0;32m6\u001b[0m\n\u001b[0;31m    return d1['Actual Rainfall: JUN-SEPT']['YEAR']\u001b[0m\n\u001b[0m    ^\u001b[0m\n\u001b[0;31mSyntaxError\u001b[0m\u001b[0;31m:\u001b[0m 'return' outside function\n"
     ]
    }
   ],
   "source": [
    "region=input(\"region:\")\n",
    "month=input(\"month:\")\n",
    "l1=[d1,d2,d3,d4]\n",
    "for regions in l1:\n",
    "    if(region=='central'):\n",
    "        return d1['Actual Rainfall: JUN-SEPT']['YEAR']\n",
    "    if(region=='north-east'):\n",
    "        return d2['Actual Rainfall: JUN-SEPT']['YEAR']"
   ]
  },
  {
   "cell_type": "code",
   "execution_count": null,
   "metadata": {
    "collapsed": true
   },
   "outputs": [],
   "source": [
    "#5. Which sub-division is the wettest from June to August in the year 2010."
   ]
  },
  {
   "cell_type": "code",
   "execution_count": 106,
   "metadata": {},
   "outputs": [
    {
     "name": "stdout",
     "output_type": "stream",
     "text": [
      "[1994, 1961, 1959, 1933, 2013]\n",
      "[1987, 1918, 1922, 1988, 1921]\n",
      "[1917, 1975, 1916, 1909, 1942]\n"
     ]
    }
   ],
   "source": [
    "w1=d1.nlargest(5, ['Actual Rainfall: JUN-SEPT'])['YEAR']\n",
    "print(list(w1))\n",
    "w2=d2.nlargest(5, ['Actual Rainfall: JUN-SEPT'])['YEAR']\n",
    "print(list(w2))\n",
    "\n",
    "w3=d3.nlargest(5, ['Actual Rainfall: JUN-SEPT'])['YEAR']\n",
    "print(list(w3))\n"
   ]
  },
  {
   "cell_type": "code",
   "execution_count": null,
   "metadata": {
    "collapsed": true
   },
   "outputs": [],
   "source": [
    "#6. Draw the rainfall graph from 2002 to 2011 for costal, south-interior and north interior Karnataka "
   ]
  },
  {
   "cell_type": "code",
   "execution_count": 148,
   "metadata": {},
   "outputs": [
    {
     "data": {
      "image/png": "[encoded data removed]",
      "text/plain": [
       "<matplotlib.figure.Figure at 0x7fc74ab21c50>"
      ]
     },
     "metadata": {},
     "output_type": "display_data"
    },
    {
     "data": {
      "image/png": "[encoded data removed]",
      "text/plain": [
       "<matplotlib.figure.Figure at 0x7fc74aec34e0>"
      ]
     },
     "metadata": {},
     "output_type": "display_data"
    }
   ],
   "source": [
    "import matplotlib.pyplot as plt\n",
    "\n",
    "\n",
    "#define some data\n",
    "x = [2002,2003,2004,2005,2006,2007,2008,2009,2010,2011]\n",
    "y = [63.7,72,79.7,51.8,76.4,88.1,157.6,35.8,54.2,119.5]\n",
    "\n",
    "x1 = [2002,2003,2004,2005,2006,2007,2008,2009,2010,2011]\n",
    "y1 = [151.7,141.9,143,141.9,158.1,242.5,135.6,106.5,163.5,156.8]\n",
    "\n",
    "\n",
    "plt.plot(x, y, linestyle=\"dashdot\", marker=\"o\", color=\"Red\",label=\"rain\")\n",
    "\n",
    "plt.xlabel(\"Years\")\n",
    "plt.ylabel(\"Rain fall\",color=\"green\")\n",
    "plt.title(\"Rain-fall Graph\",color=\"blue\")\n",
    "\n",
    "plt.legend()\n",
    "plt.show()\n",
    "\n",
    "plt.plot(x1, y1, linestyle=\"dashed\", marker=\"o\", color=\"blue\",label=\"rain\")\n",
    "plt.legend()\n",
    "plt.xlabel(\"Year\")\n",
    "plt.ylabel(\"Rain-fall\",color=\"green\")\n",
    "plt.show()"
   ]
  },
  {
   "cell_type": "code",
   "execution_count": null,
   "metadata": {},
   "outputs": [],
   "source": []
  },
  {
   "cell_type": "code",
   "execution_count": null,
   "metadata": {
    "collapsed": true
   },
   "outputs": [],
   "source": []
  }
 ],
 "metadata": {
  "kernelspec": {
   "display_name": "Python 3",
   "language": "python",
   "name": "python3"
  },
  "language_info": {
   "codemirror_mode": {
    "name": "ipython",
    "version": 3
   },
   "file_extension": ".py",
   "mimetype": "text/x-python",
   "name": "python",
   "nbconvert_exporter": "python",
   "pygments_lexer": "ipython3",
   "version": "3.6.1"
  }
 },
 "nbformat": 4,
 "nbformat_minor": 2
}
